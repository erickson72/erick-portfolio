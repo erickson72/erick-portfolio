{
  "nbformat": 4,
  "nbformat_minor": 0,
  "metadata": {
    "colab": {
      "provenance": [],
      "authorship_tag": "ABX9TyOj4pg9TX2Zb0S5L+gLgezn",
      "include_colab_link": true
    },
    "kernelspec": {
      "name": "python3",
      "display_name": "Python 3"
    },
    "language_info": {
      "name": "python"
    }
  },
  "cells": [
    {
      "cell_type": "markdown",
      "metadata": {
        "id": "view-in-github",
        "colab_type": "text"
      },
      "source": [
        "<a href=\"https://colab.research.google.com/github/erickson72/erick-portfolio/blob/main/Loop_com_While.ipynb\" target=\"_parent\"><img src=\"https://colab.research.google.com/assets/colab-badge.svg\" alt=\"Open In Colab\"/></a>"
      ]
    },
    {
      "cell_type": "code",
      "execution_count": null,
      "metadata": {
        "colab": {
          "base_uri": "https://localhost:8080/"
        },
        "id": "zgHeZVCbcG59",
        "outputId": "0a5e7843-ded6-42b2-842e-adc274d79ba7"
      },
      "outputs": [
        {
          "output_type": "stream",
          "name": "stdout",
          "text": [
            "Inicio das instruções\n",
            "  > NORTE\n",
            "  > Norte\n",
            "  > norte\n",
            "  > NorteNorteNorte\n",
            "Fim das instruções\n",
            "Inicio das instruções\n",
            "  > NORDESTE\n",
            "  > Nordeste\n",
            "  > nordeste\n",
            "  > NordesteNordesteNordeste\n",
            "Fim das instruções\n",
            "Inicio das instruções\n",
            "  > SUDESTE\n",
            "  > Sudeste\n",
            "  > sudeste\n",
            "  > SudesteSudesteSudeste\n",
            "Fim das instruções\n",
            "Inicio das instruções\n",
            "  > SUL\n",
            "  > Sul\n",
            "  > sul\n",
            "  > SulSulSul\n",
            "Fim das instruções\n",
            "Inicio das instruções\n",
            "  > CENTRO-OESTE\n",
            "  > Centro-Oeste\n",
            "  > centro-oeste\n",
            "  > Centro-OesteCentro-OesteCentro-Oeste\n",
            "Fim das instruções\n"
          ]
        }
      ],
      "source": [
        "regioes = [\"Norte\", \"Nordeste\", \"Sudeste\", \"Sul\", \"Centro-Oeste\"]\n",
        "tamanho_da_lista = len(regioes)\n",
        "posicao = 0\n",
        "while posicao < tamanho_da_lista:\n",
        "  regiao = regioes[posicao]\n",
        "  print('Inicio das instruções')\n",
        "  print('  >', regiao.upper())\n",
        "  print('  >',regiao.title())\n",
        "  print('  >',regiao.lower())\n",
        "  print('  >',regiao*3)\n",
        "  print('Fim das instruções')\n",
        "  posicao += 1"
      ]
    },
    {
      "cell_type": "code",
      "source": [
        "regioes = [\"Norte\", \"Nordeste\", \"Sudeste\", \"Sul\", \"Centro-Oeste\"]\n",
        "regiao_desejada = \"Nordeste\"\n",
        "tamanho_da_lista = len(regioes)\n",
        "posicao = 0\n",
        "while posicao < tamanho_da_lista:\n",
        "  x = regioes[posicao]\n",
        "  print('Inicio das instruções')\n",
        "  print('  >', x.upper())\n",
        "  print('  >',x.title())\n",
        "  print('  >',x.lower())\n",
        "  print('  >',x*3)\n",
        "  print('Fim das instruções')\n",
        "  if  x == regiao_desejada :\n",
        "    print(f'Achei o que procurava! A região {x}')\n",
        "    break\n",
        "  posicao += 1\n"
      ],
      "metadata": {
        "colab": {
          "base_uri": "https://localhost:8080/"
        },
        "id": "B2AsA300jZ3n",
        "outputId": "7da2d6b2-e7f6-47cb-a165-8ba03d76f125"
      },
      "execution_count": null,
      "outputs": [
        {
          "output_type": "stream",
          "name": "stdout",
          "text": [
            "Inicio das instruções\n",
            "  > NORTE\n",
            "  > Norte\n",
            "  > norte\n",
            "  > NorteNorteNorte\n",
            "Fim das instruções\n",
            "Inicio das instruções\n",
            "  > NORDESTE\n",
            "  > Nordeste\n",
            "  > nordeste\n",
            "  > NordesteNordesteNordeste\n",
            "Fim das instruções\n",
            "Achei o que procurava! A região Nordeste\n"
          ]
        }
      ]
    },
    {
      "cell_type": "code",
      "source": [
        "A instrução continue\n",
        "Com a instrução continue , podemos parar a iteração atual do loop e continuar com a próxima interação:"
      ],
      "metadata": {
        "id": "490FcTu7R_sk"
      },
      "execution_count": null,
      "outputs": []
    },
    {
      "cell_type": "code",
      "source": [
        "regioes = [\"Norte\", \"Nordeste\", \"Sudeste\", \"Sul\", \"Centro-Oeste\"]\n",
        "regiao_desejada = \"Sul\"\n",
        "tamanho_da_lista = len(regioes)\n",
        "posicao = 0\n",
        "while posicao < tamanho_da_lista:\n",
        "  x = regioes[posicao]\n",
        "  posicao += 1\n",
        "  if x != regiao_desejada :\n",
        "    print(f'{x} não é o que estou procurando!')\n",
        "    continue\n",
        "  print('Inicio das instruções')\n",
        "  print('  >', x.upper())\n",
        "  print('  >',x.title())\n",
        "  print('  >',x.lower())\n",
        "  print('  >',x*3)\n",
        "  print('Fim das instruções')\n",
        "  if  x == regiao_desejada :\n",
        "    print(f'Achei o que procurava! A região {x}')\n",
        "    break\n"
      ],
      "metadata": {
        "colab": {
          "base_uri": "https://localhost:8080/"
        },
        "id": "_RRe7bLVSAx4",
        "outputId": "11d27df8-d125-4bbb-d306-5ff459bfd87a"
      },
      "execution_count": null,
      "outputs": [
        {
          "output_type": "stream",
          "name": "stdout",
          "text": [
            "Norte não é o que estou procurando!\n",
            "Nordeste não é o que estou procurando!\n",
            "Sudeste não é o que estou procurando!\n",
            "Inicio das instruções\n",
            "  > SUL\n",
            "  > Sul\n",
            "  > sul\n",
            "  > SulSulSul\n",
            "Fim das instruções\n",
            "Achei o que procurava! A região Sul\n"
          ]
        }
      ]
    },
    {
      "cell_type": "code",
      "source": [
        "x = 'Norte'\n",
        "f'{x} não é o que estou procurando!'"
      ],
      "metadata": {
        "colab": {
          "base_uri": "https://localhost:8080/",
          "height": 35
        },
        "id": "rD6B-d2-TJ_O",
        "outputId": "020dc4ff-0b75-4bab-8e35-7b00b75bd544"
      },
      "execution_count": null,
      "outputs": [
        {
          "output_type": "execute_result",
          "data": {
            "text/plain": [
              "'Norte não é o que estou procurando!'"
            ],
            "application/vnd.google.colaboratory.intrinsic+json": {
              "type": "string"
            }
          },
          "metadata": {},
          "execution_count": 5
        }
      ]
    },
    {
      "cell_type": "code",
      "source": [
        "y = 'Sul'\n",
        "'{} não é o que estou procurando! O que procuro é {}'.format(x,y)"
      ],
      "metadata": {
        "colab": {
          "base_uri": "https://localhost:8080/",
          "height": 35
        },
        "id": "bXiRUJVPTNvU",
        "outputId": "32bc267d-e26b-4535-88d0-4ce8cda16ea8"
      },
      "execution_count": null,
      "outputs": [
        {
          "output_type": "execute_result",
          "data": {
            "text/plain": [
              "'Norte não é o que estou procurando! O que procuro é Sul'"
            ],
            "application/vnd.google.colaboratory.intrinsic+json": {
              "type": "string"
            }
          },
          "metadata": {},
          "execution_count": 6
        }
      ]
    },
    {
      "cell_type": "code",
      "source": [
        "f'{x} não é o que estou procurando! O que procuro é {y} que não corresponde a {x}'"
      ],
      "metadata": {
        "colab": {
          "base_uri": "https://localhost:8080/",
          "height": 35
        },
        "id": "vNBOyx1yTV56",
        "outputId": "4cfb9566-1cbc-4dda-bfb8-3f1e4605823c"
      },
      "execution_count": null,
      "outputs": [
        {
          "output_type": "execute_result",
          "data": {
            "text/plain": [
              "'Norte não é o que estou procurando! O que procuro é Sul que não corresponde a Norte'"
            ],
            "application/vnd.google.colaboratory.intrinsic+json": {
              "type": "string"
            }
          },
          "metadata": {},
          "execution_count": 7
        }
      ]
    },
    {
      "cell_type": "code",
      "source": [
        "x = 'Carina'\n",
        "f'{x} não é o que estou procurando!'"
      ],
      "metadata": {
        "colab": {
          "base_uri": "https://localhost:8080/",
          "height": 35
        },
        "id": "NZk33NO9UFxE",
        "outputId": "fa913605-8c4e-4715-f439-cde8c6e9d674"
      },
      "execution_count": null,
      "outputs": [
        {
          "output_type": "execute_result",
          "data": {
            "text/plain": [
              "'Carina não é o que estou procurando!'"
            ],
            "application/vnd.google.colaboratory.intrinsic+json": {
              "type": "string"
            }
          },
          "metadata": {},
          "execution_count": 11
        }
      ]
    }
  ]
}