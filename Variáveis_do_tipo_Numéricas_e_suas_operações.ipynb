{
  "nbformat": 4,
  "nbformat_minor": 0,
  "metadata": {
    "colab": {
      "provenance": [],
      "authorship_tag": "ABX9TyMTrLpqF7QqtBeLumILN5Sp",
      "include_colab_link": true
    },
    "kernelspec": {
      "name": "python3",
      "display_name": "Python 3"
    },
    "language_info": {
      "name": "python"
    }
  },
  "cells": [
    {
      "cell_type": "markdown",
      "metadata": {
        "id": "view-in-github",
        "colab_type": "text"
      },
      "source": [
        "<a href=\"https://colab.research.google.com/github/erickson72/erick-portfolio/blob/main/Vari%C3%A1veis_do_tipo_Num%C3%A9ricas_e_suas_opera%C3%A7%C3%B5es.ipynb\" target=\"_parent\"><img src=\"https://colab.research.google.com/assets/colab-badge.svg\" alt=\"Open In Colab\"/></a>"
      ]
    },
    {
      "cell_type": "code",
      "source": [
        "#Variaveis do tipo númericas\n",
        "Existem três tipos numéricos em Python:\n",
        "int\n",
        "float\n",
        "complex variavéis de tipo númericas são criadas quando você atribui um valor a elas:"
      ],
      "metadata": {
        "id": "DP0ezKn5dvlM"
      },
      "execution_count": null,
      "outputs": []
    },
    {
      "cell_type": "code",
      "source": [
        "intvar = 10\n",
        "type(intvar)\n"
      ],
      "metadata": {
        "colab": {
          "base_uri": "https://localhost:8080/"
        },
        "id": "WRDSq_Ptdj7n",
        "outputId": "37892eab-e7e6-4ce8-b1de-d4be41a33b6f"
      },
      "execution_count": null,
      "outputs": [
        {
          "output_type": "execute_result",
          "data": {
            "text/plain": [
              "int"
            ]
          },
          "metadata": {},
          "execution_count": 6
        }
      ]
    },
    {
      "cell_type": "code",
      "source": [
        "floatvar = 52.5\n",
        "type(floatvar)"
      ],
      "metadata": {
        "colab": {
          "base_uri": "https://localhost:8080/"
        },
        "id": "Dx6puI0kdyyZ",
        "outputId": "f6d3b5be-d00e-4754-da06-536218df3355"
      },
      "execution_count": null,
      "outputs": [
        {
          "output_type": "execute_result",
          "data": {
            "text/plain": [
              "float"
            ]
          },
          "metadata": {},
          "execution_count": 8
        }
      ]
    },
    {
      "cell_type": "code",
      "source": [
        "complexvar = 5j\n",
        "type(complexvar)\n"
      ],
      "metadata": {
        "colab": {
          "base_uri": "https://localhost:8080/"
        },
        "id": "umGL-TA-d75Z",
        "outputId": "d0a8f2ec-de0e-457b-984d-fbdc6b546c34"
      },
      "execution_count": null,
      "outputs": [
        {
          "output_type": "execute_result",
          "data": {
            "text/plain": [
              "complex"
            ]
          },
          "metadata": {},
          "execution_count": 9
        }
      ]
    },
    {
      "cell_type": "code",
      "source": [
        "\n",
        "Int\n",
        "\n",
        "Int, ou inteiro, é um número inteiro, positivo ou negativo, sem decimais, de comprimento ilimitado.\n"
      ],
      "metadata": {
        "id": "FZhotVlreCS4"
      },
      "execution_count": null,
      "outputs": []
    },
    {
      "cell_type": "code",
      "source": [
        "x = 346\n",
        "y = 12312931029310934235304952349534953405934095345\n",
        "z = -4567456745674567\n",
        "\n",
        "print(x,type(x))\n",
        "print(y, type(y))\n",
        "print(z, type(z))"
      ],
      "metadata": {
        "colab": {
          "base_uri": "https://localhost:8080/"
        },
        "id": "wYf7IuGOeDfG",
        "outputId": "00499ce5-de8b-4b21-e2e9-3bd5fb13eb49"
      },
      "execution_count": null,
      "outputs": [
        {
          "output_type": "stream",
          "name": "stdout",
          "text": [
            "346 <class 'int'>\n",
            "12312931029310934235304952349534953405934095345 <class 'int'>\n",
            "-4567456745674567 <class 'int'>\n"
          ]
        }
      ]
    },
    {
      "cell_type": "code",
      "source": [
        "\n",
        "float\n",
        "\n",
        "float ou \"número de ponto flutuante\" é um número, positivo ou negativo, que contém um ou mais decimais.\n",
        "\n",
        "Podem ter seu valor atribuido na forma padrão com separador decimal na forma pode ser números científicos com um \"e\" para indicar a potência de 10.\n"
      ],
      "metadata": {
        "id": "FWG5OzQmeN-N"
      },
      "execution_count": null,
      "outputs": []
    },
    {
      "cell_type": "code",
      "source": [
        "x = 34.410\n",
        "y = 341.34\n",
        "z = -345.34\n",
        "\n",
        "print(x,type(x))\n",
        "print(y, type(y))\n",
        "print(z, type(z))\n"
      ],
      "metadata": {
        "colab": {
          "base_uri": "https://localhost:8080/"
        },
        "id": "iM3nYtdkeVBw",
        "outputId": "d37ed48e-4d8d-41d6-fd27-45fb55a28f13"
      },
      "execution_count": null,
      "outputs": [
        {
          "output_type": "stream",
          "name": "stdout",
          "text": [
            "34.41 <class 'float'>\n",
            "341.34 <class 'float'>\n",
            "-345.34 <class 'float'>\n"
          ]
        }
      ]
    },
    {
      "cell_type": "code",
      "source": [
        "x = 3e10\n",
        "y = 24E5\n",
        "z = -35e4\n",
        "\n",
        "print(x,type(x))\n",
        "print(y, type(y))\n",
        "print(z, type(z))\n"
      ],
      "metadata": {
        "colab": {
          "base_uri": "https://localhost:8080/"
        },
        "id": "Cr-z0_4EeZVy",
        "outputId": "c01ad2b0-5f56-4aa3-d6f2-3f0450afd927"
      },
      "execution_count": null,
      "outputs": [
        {
          "output_type": "stream",
          "name": "stdout",
          "text": [
            "30000000000.0 <class 'float'>\n",
            "2400000.0 <class 'float'>\n",
            "-350000.0 <class 'float'>\n"
          ]
        }
      ]
    },
    {
      "cell_type": "code",
      "source": [
        "\n",
        "complex\n",
        "\n",
        "Os números complexos são escritos com um \"j\" como parte imaginária\n"
      ],
      "metadata": {
        "id": "LZl_jdzuef8A"
      },
      "execution_count": null,
      "outputs": []
    },
    {
      "cell_type": "code",
      "source": [
        "x = 33+2j\n",
        "y = 35j\n",
        "z = -45j\n",
        "\n",
        "print(x,type(x))\n",
        "print(y, type(y))\n",
        "print(z, type(z))"
      ],
      "metadata": {
        "colab": {
          "base_uri": "https://localhost:8080/"
        },
        "id": "dwrup3C7eg1x",
        "outputId": "e2192035-b112-4f71-d33a-14cbb785e276"
      },
      "execution_count": null,
      "outputs": [
        {
          "output_type": "stream",
          "name": "stdout",
          "text": [
            "(33+2j) <class 'complex'>\n",
            "35j <class 'complex'>\n",
            "(-0-45j) <class 'complex'>\n"
          ]
        }
      ]
    },
    {
      "cell_type": "code",
      "source": [
        "\n",
        "Conversão de Tipo\n",
        "\n",
        "Uma variável ou valor pode ser convertido de um tipo para outro com os métodos int(), float() e complex()\n"
      ],
      "metadata": {
        "id": "djfBr47leqEj"
      },
      "execution_count": null,
      "outputs": []
    },
    {
      "cell_type": "code",
      "source": [
        "intvar = 10\n",
        "print(intvar, type(intvar))\n",
        "floatvar = float(intvar)\n",
        "print(floatvar, type(floatvar))\n",
        "complexvar = complex(intvar)\n",
        "print(complexvar, type(complexvar))\n"
      ],
      "metadata": {
        "colab": {
          "base_uri": "https://localhost:8080/"
        },
        "id": "hTscNqscerFc",
        "outputId": "6fdf612d-0047-4f21-ef73-695e94ed47f4"
      },
      "execution_count": null,
      "outputs": [
        {
          "output_type": "stream",
          "name": "stdout",
          "text": [
            "10 <class 'int'>\n",
            "10.0 <class 'float'>\n",
            "(10+0j) <class 'complex'>\n"
          ]
        }
      ]
    },
    {
      "cell_type": "code",
      "source": [
        "floatvar = 14.5\n",
        "print(floatvar, type(floatvar))\n",
        "intvar = int(floatvar)\n",
        "print(intvar, type(floatvar))\n",
        "complexvar = complex(floatvar)\n",
        "print(complexvar, type(complexvar))"
      ],
      "metadata": {
        "colab": {
          "base_uri": "https://localhost:8080/"
        },
        "id": "8oV3Vg3fe1E4",
        "outputId": "53b70d3e-a144-498e-8109-e7a369031391"
      },
      "execution_count": null,
      "outputs": [
        {
          "output_type": "stream",
          "name": "stdout",
          "text": [
            "14.5 <class 'float'>\n",
            "14 <class 'float'>\n",
            "(14.5+0j) <class 'complex'>\n"
          ]
        }
      ]
    },
    {
      "cell_type": "code",
      "source": [
        ":b - Formato binário"
      ],
      "metadata": {
        "id": "jcnBtvl68nvY"
      },
      "execution_count": null,
      "outputs": []
    },
    {
      "cell_type": "code",
      "source": [
        "valor = 0\n",
        "f' valor = {valor:b}'"
      ],
      "metadata": {
        "colab": {
          "base_uri": "https://localhost:8080/",
          "height": 35
        },
        "id": "LY1eSAS_8XdV",
        "outputId": "4fd48dea-4203-45dd-c430-98b402f9da44"
      },
      "execution_count": null,
      "outputs": [
        {
          "output_type": "execute_result",
          "data": {
            "text/plain": [
              "' valor = 0'"
            ],
            "application/vnd.google.colaboratory.intrinsic+json": {
              "type": "string"
            }
          },
          "metadata": {},
          "execution_count": 3
        }
      ]
    },
    {
      "cell_type": "code",
      "source": [
        "valor = 100\n",
        "f'valor ={valor:c}'"
      ],
      "metadata": {
        "colab": {
          "base_uri": "https://localhost:8080/",
          "height": 35
        },
        "id": "oYMwBYeA7W_O",
        "outputId": "11a2502c-43d0-4990-95ff-417b324ae5ba"
      },
      "execution_count": null,
      "outputs": [
        {
          "output_type": "execute_result",
          "data": {
            "text/plain": [
              "'valor =d'"
            ],
            "application/vnd.google.colaboratory.intrinsic+json": {
              "type": "string"
            }
          },
          "metadata": {},
          "execution_count": 1
        }
      ]
    },
    {
      "cell_type": "code",
      "source": [
        "valor = 5846\n",
        "f'valor = {valor:b}'"
      ],
      "metadata": {
        "colab": {
          "base_uri": "https://localhost:8080/",
          "height": 35
        },
        "id": "bAs7Nl5P7-Nt",
        "outputId": "766dfea0-400b-466f-cef7-06d16d9a96b6"
      },
      "execution_count": null,
      "outputs": [
        {
          "output_type": "execute_result",
          "data": {
            "text/plain": [
              "'valor = 1011011010110'"
            ],
            "application/vnd.google.colaboratory.intrinsic+json": {
              "type": "string"
            }
          },
          "metadata": {},
          "execution_count": 2
        }
      ]
    },
    {
      "cell_type": "code",
      "source": [
        "ano = int(input(\"Que ano você nasceu?\"))\n",
        "idade = 2024 - ano\n",
        "if idade >= 21:\n",
        "\n",
        "    print(\"Você é adulto!\")\n",
        "else:\n",
        "    print(\"Você ainda não é adulto!\")"
      ],
      "metadata": {
        "colab": {
          "base_uri": "https://localhost:8080/"
        },
        "id": "PwbHoqOfBw1I",
        "outputId": "0a6b0138-690c-4fdb-c773-a88c2ab4e9d4"
      },
      "execution_count": null,
      "outputs": [
        {
          "output_type": "stream",
          "name": "stdout",
          "text": [
            "Que ano você nasceu?2006\n",
            "Você ainda não é adulto!\n"
          ]
        }
      ]
    },
    {
      "cell_type": "code",
      "source": [
        "Valores booleanos podem são obtidos quando se avalia expressões em Python."
      ],
      "metadata": {
        "id": "kzrUjfycKSI4"
      },
      "execution_count": null,
      "outputs": []
    },
    {
      "cell_type": "code",
      "source": [
        "print(114>80)\n",
        "print(114<80)\n",
        "print(14>28)\n",
        "print(14<28)\n",
        "print(10<20)\n",
        "print(10>20)"
      ],
      "metadata": {
        "colab": {
          "base_uri": "https://localhost:8080/"
        },
        "id": "X3Oy55oWKTQj",
        "outputId": "7ce3707a-7714-4a0e-8059-5f82b2d776b0"
      },
      "execution_count": null,
      "outputs": [
        {
          "output_type": "stream",
          "name": "stdout",
          "text": [
            "True\n",
            "False\n",
            "False\n",
            "True\n",
            "True\n",
            "False\n"
          ]
        }
      ]
    }
  ]
}