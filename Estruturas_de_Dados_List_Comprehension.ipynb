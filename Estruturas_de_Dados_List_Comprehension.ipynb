{
  "nbformat": 4,
  "nbformat_minor": 0,
  "metadata": {
    "colab": {
      "provenance": [],
      "authorship_tag": "ABX9TyOl19UQD1CFOnYYjOUy07cj",
      "include_colab_link": true
    },
    "kernelspec": {
      "name": "python3",
      "display_name": "Python 3"
    },
    "language_info": {
      "name": "python"
    }
  },
  "cells": [
    {
      "cell_type": "markdown",
      "metadata": {
        "id": "view-in-github",
        "colab_type": "text"
      },
      "source": [
        "<a href=\"https://colab.research.google.com/github/erickson72/erick-portfolio/blob/main/Estruturas_de_Dados_List_Comprehension.ipynb\" target=\"_parent\"><img src=\"https://colab.research.google.com/assets/colab-badge.svg\" alt=\"Open In Colab\"/></a>"
      ]
    },
    {
      "cell_type": "code",
      "execution_count": null,
      "metadata": {
        "id": "3eEiYieZN8E4"
      },
      "outputs": [],
      "source": [
        "#Estruturas de Dados - List Comprehension\n",
        "-uma forma elegante de navegar por um lista para gerar outras coleções como resultado"
      ]
    },
    {
      "cell_type": "code",
      "source": [
        "numeros_listas = list(range(1,11))\n",
        "print(numeros_listas)"
      ],
      "metadata": {
        "colab": {
          "base_uri": "https://localhost:8080/"
        },
        "id": "ovclqNE7N_Gd",
        "outputId": "4ff0a0ab-ce5b-47d1-9d0c-a8e0dda7de83"
      },
      "execution_count": null,
      "outputs": [
        {
          "output_type": "stream",
          "name": "stdout",
          "text": [
            "[1, 2, 3, 4, 5, 6, 7, 8, 9, 10]\n"
          ]
        }
      ]
    },
    {
      "cell_type": "code",
      "source": [
        "for x in numeros_listas:\n",
        "  print(x**2)"
      ],
      "metadata": {
        "colab": {
          "base_uri": "https://localhost:8080/"
        },
        "id": "1Q2kd93_O4RL",
        "outputId": "e59f6cea-3082-487b-c172-3d2fdd81e0f7"
      },
      "execution_count": null,
      "outputs": [
        {
          "output_type": "stream",
          "name": "stdout",
          "text": [
            "1\n",
            "4\n",
            "9\n",
            "16\n",
            "25\n",
            "36\n",
            "49\n",
            "64\n",
            "81\n",
            "100\n"
          ]
        }
      ]
    },
    {
      "cell_type": "code",
      "source": [
        "for x in numeros_listas:\n",
        "  if x % 2 == 0:\n",
        "    print(x**2)"
      ],
      "metadata": {
        "colab": {
          "base_uri": "https://localhost:8080/"
        },
        "id": "LRlgmiu3QNDD",
        "outputId": "dadd4c74-1cc7-4e8c-e499-a744c32fd43f"
      },
      "execution_count": null,
      "outputs": [
        {
          "output_type": "stream",
          "name": "stdout",
          "text": [
            "4\n",
            "16\n",
            "36\n",
            "64\n",
            "100\n"
          ]
        }
      ]
    },
    {
      "cell_type": "code",
      "source": [
        "#Comprehension em dict\n",
        "[expression for item in dict if filter]\n",
        "-uma forma elegante de navegar por um lista para gerar outras coleções como resultado"
      ],
      "metadata": {
        "id": "33Jg7iyp2QO6"
      },
      "execution_count": null,
      "outputs": []
    },
    {
      "cell_type": "code",
      "source": [
        "numeros_dict = {1: 1, 2: 4, 3: 9, 4: 16, 5: 25, 6: 36, 7: 49, 8: 64, 9: 81, 10: 100}\n",
        "print(numeros_dict)\n"
      ],
      "metadata": {
        "colab": {
          "base_uri": "https://localhost:8080/"
        },
        "id": "u6Ar2kTj2aA8",
        "outputId": "86180b61-cbb6-4201-86e6-ea5414c26451"
      },
      "execution_count": 9,
      "outputs": [
        {
          "output_type": "stream",
          "name": "stdout",
          "text": [
            "{1: 1, 2: 4, 3: 9, 4: 16, 5: 25, 6: 36, 7: 49, 8: 64, 9: 81, 10: 100}\n"
          ]
        }
      ]
    },
    {
      "cell_type": "code",
      "source": [
        "#gerar um lista com as chaves"
      ],
      "metadata": {
        "id": "BCFRRU792j29"
      },
      "execution_count": null,
      "outputs": []
    },
    {
      "cell_type": "code",
      "source": [
        "[x for x in numeros_dict]"
      ],
      "metadata": {
        "colab": {
          "base_uri": "https://localhost:8080/"
        },
        "id": "toCSmWVt2or8",
        "outputId": "8980fc2c-1d2b-4989-d141-dc75af9d3c91"
      },
      "execution_count": null,
      "outputs": [
        {
          "output_type": "execute_result",
          "data": {
            "text/plain": [
              "[1, 2, 3, 4, 5, 6, 7, 8, 9, 10]"
            ]
          },
          "metadata": {},
          "execution_count": 6
        }
      ]
    },
    {
      "cell_type": "code",
      "source": [
        "#gerar um lista com os valores"
      ],
      "metadata": {
        "id": "XDfNyerH3miB"
      },
      "execution_count": null,
      "outputs": []
    },
    {
      "cell_type": "code",
      "source": [
        "[x for x in numeros_dict.values ()]"
      ],
      "metadata": {
        "colab": {
          "base_uri": "https://localhost:8080/"
        },
        "id": "GzXBdU7K3rXX",
        "outputId": "0650556d-79d3-45e5-c1b7-017bc55a160f"
      },
      "execution_count": null,
      "outputs": [
        {
          "output_type": "execute_result",
          "data": {
            "text/plain": [
              "[1, 4, 9, 16, 25, 36, 49, 64, 81, 100]"
            ]
          },
          "metadata": {},
          "execution_count": 9
        }
      ]
    },
    {
      "cell_type": "code",
      "source": [
        "#gerar um lista com as chaves aplicando filtro"
      ],
      "metadata": {
        "id": "2fNVKQfK4ILo"
      },
      "execution_count": null,
      "outputs": []
    },
    {
      "cell_type": "code",
      "source": [
        "[x for x in numeros_dict if x % 2 == 0]"
      ],
      "metadata": {
        "colab": {
          "base_uri": "https://localhost:8080/"
        },
        "id": "CwN-NAer4O1Z",
        "outputId": "0b9bb007-cf90-4445-bb89-2730261004b2"
      },
      "execution_count": null,
      "outputs": [
        {
          "output_type": "execute_result",
          "data": {
            "text/plain": [
              "[2, 4, 6, 8, 10]"
            ]
          },
          "metadata": {},
          "execution_count": 8
        }
      ]
    },
    {
      "cell_type": "code",
      "source": [
        "#gerar um lista com os valores aplicando filtro"
      ],
      "metadata": {
        "id": "4uZznaq54fg5"
      },
      "execution_count": null,
      "outputs": []
    },
    {
      "cell_type": "code",
      "source": [
        "[x for x in numeros_dict.values () if x % 5 ==0]"
      ],
      "metadata": {
        "colab": {
          "base_uri": "https://localhost:8080/"
        },
        "id": "hh316vcc4msd",
        "outputId": "3fe14f82-4766-4c2c-b853-4ca2bb70c57f"
      },
      "execution_count": null,
      "outputs": [
        {
          "output_type": "execute_result",
          "data": {
            "text/plain": [
              "[25, 100]"
            ]
          },
          "metadata": {},
          "execution_count": 10
        }
      ]
    },
    {
      "cell_type": "code",
      "source": [
        "#gerar uma set com os valores aplicando filtro"
      ],
      "metadata": {
        "id": "BCYE8bAc45Wo"
      },
      "execution_count": null,
      "outputs": []
    },
    {
      "cell_type": "code",
      "source": [
        "{x for x in numeros_dict.values() if x % 2 == 0}"
      ],
      "metadata": {
        "colab": {
          "base_uri": "https://localhost:8080/"
        },
        "id": "Db3b1XDH5b05",
        "outputId": "b485ac9f-36c0-443d-fbb5-e56f61a1cc10"
      },
      "execution_count": null,
      "outputs": [
        {
          "output_type": "execute_result",
          "data": {
            "text/plain": [
              "{4, 16, 36, 64, 100}"
            ]
          },
          "metadata": {},
          "execution_count": 11
        }
      ]
    },
    {
      "cell_type": "code",
      "source": [
        "#gerar um dic com as chaves"
      ],
      "metadata": {
        "id": "ZesPb0qN8h7q"
      },
      "execution_count": null,
      "outputs": []
    },
    {
      "cell_type": "code",
      "source": [
        "{x : x**3 for x in  numeros_dict}"
      ],
      "metadata": {
        "colab": {
          "base_uri": "https://localhost:8080/"
        },
        "id": "O2QTxzg69WJL",
        "outputId": "4939f70d-1848-45dc-d987-cc20c25e2c40"
      },
      "execution_count": 10,
      "outputs": [
        {
          "output_type": "execute_result",
          "data": {
            "text/plain": [
              "{1: 1, 2: 8, 3: 27, 4: 64, 5: 125, 6: 216, 7: 343, 8: 512, 9: 729, 10: 1000}"
            ]
          },
          "metadata": {},
          "execution_count": 10
        }
      ]
    },
    {
      "cell_type": "code",
      "source": [
        "#gerar um dict com as chaves ae valores e filtrando intes"
      ],
      "metadata": {
        "id": "gLgEqmlb-byL"
      },
      "execution_count": null,
      "outputs": []
    },
    {
      "cell_type": "code",
      "source": [
        "{chave : valor for chave, valor in  numeros_dict.items() if chave % 2 ==0}"
      ],
      "metadata": {
        "colab": {
          "base_uri": "https://localhost:8080/"
        },
        "id": "nUddzQTd-luy",
        "outputId": "a5fdb59e-0c37-434c-d49d-53823769cbfb"
      },
      "execution_count": 11,
      "outputs": [
        {
          "output_type": "execute_result",
          "data": {
            "text/plain": [
              "{2: 4, 4: 16, 6: 36, 8: 64, 10: 100}"
            ]
          },
          "metadata": {},
          "execution_count": 11
        }
      ]
    },
    {
      "cell_type": "code",
      "source": [
        "{chave*2 : valor*2 for chave, valor in  numeros_dict.items() if chave % 2 ==0}"
      ],
      "metadata": {
        "colab": {
          "base_uri": "https://localhost:8080/"
        },
        "id": "kwQnUNZV_IJK",
        "outputId": "23b848c1-59c1-415a-fea7-6e4e754ad4c8"
      },
      "execution_count": 12,
      "outputs": [
        {
          "output_type": "execute_result",
          "data": {
            "text/plain": [
              "{4: 8, 8: 32, 12: 72, 16: 128, 20: 200}"
            ]
          },
          "metadata": {},
          "execution_count": 12
        }
      ]
    },
    {
      "cell_type": "code",
      "source": [
        "[f'{chave} = {valor}'for chave, valor in  numeros_dict.items() if chave % 2 ==0]"
      ],
      "metadata": {
        "colab": {
          "base_uri": "https://localhost:8080/"
        },
        "id": "eSTK946i_L1v",
        "outputId": "3ae96fcb-8bb3-4960-ac0f-c9d79f038ea7"
      },
      "execution_count": 13,
      "outputs": [
        {
          "output_type": "execute_result",
          "data": {
            "text/plain": [
              "['2 = 4', '4 = 16', '6 = 36', '8 = 64', '10 = 100']"
            ]
          },
          "metadata": {},
          "execution_count": 13
        }
      ]
    }
  ]
}