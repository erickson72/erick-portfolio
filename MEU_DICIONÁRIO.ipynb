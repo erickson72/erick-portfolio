{
  "nbformat": 4,
  "nbformat_minor": 0,
  "metadata": {
    "colab": {
      "provenance": [],
      "authorship_tag": "ABX9TyMw6TOXLV4TEelgKcCQWyQB",
      "include_colab_link": true
    },
    "kernelspec": {
      "name": "python3",
      "display_name": "Python 3"
    },
    "language_info": {
      "name": "python"
    }
  },
  "cells": [
    {
      "cell_type": "markdown",
      "metadata": {
        "id": "view-in-github",
        "colab_type": "text"
      },
      "source": [
        "<a href=\"https://colab.research.google.com/github/erickson72/erick-portfolio/blob/main/MEU_DICION%C3%81RIO.ipynb\" target=\"_parent\"><img src=\"https://colab.research.google.com/assets/colab-badge.svg\" alt=\"Open In Colab\"/></a>"
      ]
    },
    {
      "cell_type": "code",
      "execution_count": 1,
      "metadata": {
        "colab": {
          "base_uri": "https://localhost:8080/"
        },
        "id": "Z19l_TSgdJba",
        "outputId": "2838891e-6333-4204-e57d-3e0efb08eec8"
      },
      "outputs": [
        {
          "output_type": "stream",
          "name": "stdout",
          "text": [
            "{'Nome': 'Erickson', 'Idade': 32, 'Cidade': 'Bissau', 'Profissão': 'Web Designer'}\n"
          ]
        }
      ],
      "source": [
        "meu_dicionário = {\"Nome\": \"Erickson\", \"Idade\":32, \"Cidade\": \"Bissau\", \"Profissão\": \"Web Designer\"}\n",
        "print(meu_dicionário)"
      ]
    },
    {
      "cell_type": "code",
      "source": [
        "Erickson = \"Web Designer\"\n",
        "for i in Erickson:\n",
        "  print(i)"
      ],
      "metadata": {
        "colab": {
          "base_uri": "https://localhost:8080/"
        },
        "id": "F-4gimWVdU74",
        "outputId": "4b62f8c5-c179-43c3-a802-1289a45dfd17"
      },
      "execution_count": 2,
      "outputs": [
        {
          "output_type": "stream",
          "name": "stdout",
          "text": [
            "W\n",
            "e\n",
            "b\n",
            " \n",
            "D\n",
            "e\n",
            "s\n",
            "i\n",
            "g\n",
            "n\n",
            "e\n",
            "r\n"
          ]
        }
      ]
    },
    {
      "cell_type": "code",
      "source": [],
      "metadata": {
        "id": "eu2JbJ-pdZTB"
      },
      "execution_count": null,
      "outputs": []
    }
  ]
}