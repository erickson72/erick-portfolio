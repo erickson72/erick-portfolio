{
  "nbformat": 4,
  "nbformat_minor": 0,
  "metadata": {
    "colab": {
      "provenance": [],
      "authorship_tag": "ABX9TyMfQ6ijyhzhTbvzpqGEm1kC",
      "include_colab_link": true
    },
    "kernelspec": {
      "name": "python3",
      "display_name": "Python 3"
    },
    "language_info": {
      "name": "python"
    }
  },
  "cells": [
    {
      "cell_type": "markdown",
      "metadata": {
        "id": "view-in-github",
        "colab_type": "text"
      },
      "source": [
        "<a href=\"https://colab.research.google.com/github/erickson72/erick-portfolio/blob/main/Estruturas_de_Dados_Listas.ipynb\" target=\"_parent\"><img src=\"https://colab.research.google.com/assets/colab-badge.svg\" alt=\"Open In Colab\"/></a>"
      ]
    },
    {
      "cell_type": "code",
      "source": [
        "#list(coleção ordenada e mutável, declaradas com colchetes)."
      ],
      "metadata": {
        "id": "XE54JjYhxSMG"
      },
      "execution_count": null,
      "outputs": []
    },
    {
      "cell_type": "code",
      "execution_count": null,
      "metadata": {
        "colab": {
          "base_uri": "https://localhost:8080/"
        },
        "id": "2qhLQ45Lwrb5",
        "outputId": "d18f19e0-cf35-4acb-eb4a-2b771f735d4c"
      },
      "outputs": [
        {
          "output_type": "stream",
          "name": "stdout",
          "text": [
            "['Norte', 'Sul', 'Sudeste', 'Nordeste', 'Centro-Oeste']\n"
          ]
        }
      ],
      "source": [
        "lista_regioes = [\"Norte\", \"Sul\",\"Sudeste\",\"Nordeste\",\"Centro-Oeste\"]\n",
        "print(lista_regioes)"
      ]
    },
    {
      "cell_type": "code",
      "source": [
        "#Acessar item da lista Utiliza-se o número do índice:"
      ],
      "metadata": {
        "id": "X4q6d-B6xabo"
      },
      "execution_count": null,
      "outputs": []
    },
    {
      "cell_type": "code",
      "source": [
        "lista_regioes = [\"Norte\", \"Sul\",\"Sudeste\",\"Nordeste\",\"Centro-Oeste\"]\n",
        "print(lista_regioes[1])"
      ],
      "metadata": {
        "colab": {
          "base_uri": "https://localhost:8080/"
        },
        "id": "jWtQvcW9xfiz",
        "outputId": "161af041-9897-405a-cd47-4bd6a68d0651"
      },
      "execution_count": null,
      "outputs": [
        {
          "output_type": "stream",
          "name": "stdout",
          "text": [
            "Sul\n"
          ]
        }
      ]
    },
    {
      "cell_type": "code",
      "source": [
        "#Indexação Negativa (Acessar por indexação negativa)"
      ],
      "metadata": {
        "id": "lQ4Xb4yTxqDB"
      },
      "execution_count": null,
      "outputs": []
    },
    {
      "cell_type": "code",
      "source": [
        "lista_regioes = [\"Norte\", \"Sul\",\"Sudeste\",\"Nordeste\",\"Centro-Oeste\"]\n",
        "print(lista_regioes[-1])"
      ],
      "metadata": {
        "colab": {
          "base_uri": "https://localhost:8080/"
        },
        "id": "TNyfaBCMxy9X",
        "outputId": "f4370421-1487-4f14-b88d-5a36b0419827"
      },
      "execution_count": null,
      "outputs": [
        {
          "output_type": "stream",
          "name": "stdout",
          "text": [
            "Centro-Oeste\n"
          ]
        }
      ]
    },
    {
      "cell_type": "code",
      "source": [
        "#Acessar os itens da lista (por intervalo de indices)"
      ],
      "metadata": {
        "id": "AV5ZOFCCx9-M"
      },
      "execution_count": null,
      "outputs": []
    },
    {
      "cell_type": "code",
      "source": [
        "lista_regioes = [\"Norte\", \"Sul\",\"Sudeste\",\"Nordeste\",\"Centro-Oeste\"]\n",
        "print(lista_regioes[2:5])"
      ],
      "metadata": {
        "colab": {
          "base_uri": "https://localhost:8080/"
        },
        "id": "5cflMWI-yl_J",
        "outputId": "68a29646-2e67-4e6b-e125-95c30c434ed2"
      },
      "execution_count": null,
      "outputs": [
        {
          "output_type": "stream",
          "name": "stdout",
          "text": [
            "['Sudeste', 'Nordeste', 'Centro-Oeste']\n"
          ]
        }
      ]
    },
    {
      "cell_type": "code",
      "source": [
        "#Remover item\n",
        "Existem vários métodos para remover itens de uma lista: O método remove() remove o item especificado:"
      ],
      "metadata": {
        "id": "ua9VyiZUyvnW"
      },
      "execution_count": null,
      "outputs": []
    },
    {
      "cell_type": "code",
      "source": [
        "lista_regioes = [\"Norte\", \"Sul\",\"Sudeste\",\"Nordeste\",\"Centro-Oeste\"]\n",
        "lista_regioes.remove (\"Norte\")\n",
        "print(lista_regioes)"
      ],
      "metadata": {
        "colab": {
          "base_uri": "https://localhost:8080/"
        },
        "id": "W_l2QMLwzt5o",
        "outputId": "2b241d37-3c7d-4668-834c-c82be767f75d"
      },
      "execution_count": null,
      "outputs": [
        {
          "output_type": "stream",
          "name": "stdout",
          "text": [
            "['Sul', 'Sudeste', 'Nordeste', 'Centro-Oeste']\n"
          ]
        }
      ]
    },
    {
      "cell_type": "code",
      "source": [
        "#Adicionar itens\n",
        "Para adicionar um item ao final da lista, use o método append ()"
      ],
      "metadata": {
        "id": "o3ZB78D-0WRv"
      },
      "execution_count": null,
      "outputs": []
    },
    {
      "cell_type": "code",
      "source": [
        "#Verifique se o item existe na lista"
      ],
      "metadata": {
        "id": "z0dE8HBX5Age"
      },
      "execution_count": null,
      "outputs": []
    },
    {
      "cell_type": "code",
      "source": [
        "lista_regioes = [\"Norte\", \"Sul\",\"Sudeste\",\"Nordeste\",\"Centro-Oeste\"]\n",
        "lista_regioes.append (\"Leste\")\n",
        "print(lista_regioes)"
      ],
      "metadata": {
        "colab": {
          "base_uri": "https://localhost:8080/"
        },
        "id": "kFI_ochc0cVq",
        "outputId": "2dafd9ab-9309-41be-e8fd-959d31edd7cb"
      },
      "execution_count": null,
      "outputs": [
        {
          "output_type": "stream",
          "name": "stdout",
          "text": [
            "['Norte', 'Sul', 'Sudeste', 'Nordeste', 'Centro-Oeste', 'Leste']\n"
          ]
        }
      ]
    },
    {
      "cell_type": "code",
      "source": [
        "lista_regioes = [\"Norte\", \"Sul\",\"Sudeste\",\"Nordeste\",\"Centro-Oeste\"]\n",
        "if \"Norte\" in lista_regioes:\n",
        "  print(\"Sim, 'norte' está na lista de regioes\", )"
      ],
      "metadata": {
        "colab": {
          "base_uri": "https://localhost:8080/"
        },
        "id": "zhPH468I5CUw",
        "outputId": "cd5cfc25-091a-48cd-8a17-d8e65e9b3536"
      },
      "execution_count": null,
      "outputs": [
        {
          "output_type": "stream",
          "name": "stdout",
          "text": [
            "Sim, 'norte' está na lista de regioes\n"
          ]
        }
      ]
    },
    {
      "cell_type": "code",
      "source": [
        "meu_dicionario = {\"Nome\": \"Erickson Mendonça\",\"Idade\":32, \"Profissão\":\"Engenheiro de Sistemas\",\"Nacionalidade\":\"Guineense\",\"Residencia atual\":\"Brasil\", \"Nivel de formação\":\"Mestrando em Ciencia da Computação\",\"Instituição\":\"UFU\"}\n",
        "print(meu_dicionario)\n"
      ],
      "metadata": {
        "colab": {
          "base_uri": "https://localhost:8080/"
        },
        "id": "TVw9Wiok_hB8",
        "outputId": "ec07da96-8a42-467f-b279-3d2c7674fdbb"
      },
      "execution_count": null,
      "outputs": [
        {
          "output_type": "stream",
          "name": "stdout",
          "text": [
            "{'Nome': 'Erickson Mendonça', 'Idade': 32, 'Profissão': 'Engenheiro de Sistemas', 'Nacionalidade': 'Guineense', 'Residencia atual': 'Brasil', 'Nivel de formação': 'Mestrando em Ciencia da Computação', 'Instituição': 'UFU'}\n"
          ]
        }
      ]
    }
  ]
}