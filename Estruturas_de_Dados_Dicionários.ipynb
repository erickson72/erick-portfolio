{
  "nbformat": 4,
  "nbformat_minor": 0,
  "metadata": {
    "colab": {
      "provenance": [],
      "authorship_tag": "ABX9TyPUPNSM+uYFfx/+adkFT4Eq",
      "include_colab_link": true
    },
    "kernelspec": {
      "name": "python3",
      "display_name": "Python 3"
    },
    "language_info": {
      "name": "python"
    }
  },
  "cells": [
    {
      "cell_type": "markdown",
      "metadata": {
        "id": "view-in-github",
        "colab_type": "text"
      },
      "source": [
        "<a href=\"https://colab.research.google.com/github/erickson72/erick-portfolio/blob/main/Estruturas_de_Dados_Dicion%C3%A1rios.ipynb\" target=\"_parent\"><img src=\"https://colab.research.google.com/assets/colab-badge.svg\" alt=\"Open In Colab\"/></a>"
      ]
    },
    {
      "cell_type": "code",
      "execution_count": null,
      "metadata": {
        "id": "ES7U2rbhiBFe"
      },
      "outputs": [],
      "source": [
        "#Dicionários em Python\n",
        "dict(coleção não ordenada, mutável e indexada declarada com chaves e têm chaves e valores.)"
      ]
    },
    {
      "cell_type": "code",
      "source": [
        "Meu_dicionário = {\"Nome\":\"Erickson Mendonça\",\"Idade\":32,\"Nacionalidade\":\"Guineense\",\"Profissão\":\"Web Designer\",\"Residencia atual\":\"Brasil\"}\n",
        "print(Meu_dicionário)"
      ],
      "metadata": {
        "colab": {
          "base_uri": "https://localhost:8080/"
        },
        "id": "fEGtKDe9iMdN",
        "outputId": "9b56a526-dca3-44dd-e10c-615bd8f419d6"
      },
      "execution_count": null,
      "outputs": [
        {
          "output_type": "stream",
          "name": "stdout",
          "text": [
            "{'Nome': 'Erickson Mendonça', 'Idade': 32, 'Nacionalidade': 'Guineense', 'Profissão': 'Web Designer', 'Residencia atual': 'Brasil'}\n"
          ]
        }
      ]
    },
    {
      "cell_type": "code",
      "source": [
        "x = Meu_dicionário [\"Nome\"]\n",
        "print(x)"
      ],
      "metadata": {
        "colab": {
          "base_uri": "https://localhost:8080/"
        },
        "id": "tNEEQNtbjf6E",
        "outputId": "02ac088f-2828-4f66-a0d6-1e4d69c09b8d"
      },
      "execution_count": null,
      "outputs": [
        {
          "output_type": "stream",
          "name": "stdout",
          "text": [
            "Erickson Mendonça\n"
          ]
        }
      ]
    },
    {
      "cell_type": "code",
      "source": [
        "x = Meu_dicionário [\"Profissão\"]\n",
        "print(x)"
      ],
      "metadata": {
        "colab": {
          "base_uri": "https://localhost:8080/"
        },
        "id": "mpAMkLjOj5lM",
        "outputId": "4cf46aa4-b53b-4ba8-c1fe-2fd71e1d4c5a"
      },
      "execution_count": null,
      "outputs": [
        {
          "output_type": "stream",
          "name": "stdout",
          "text": [
            "Web Designer\n"
          ]
        }
      ]
    },
    {
      "cell_type": "code",
      "source": [
        "for x in Meu_dicionário:\n",
        "  print(x)"
      ],
      "metadata": {
        "colab": {
          "base_uri": "https://localhost:8080/"
        },
        "id": "8FzE1sGwkV9A",
        "outputId": "77522d51-2018-48fd-9f96-5970b7e99ab5"
      },
      "execution_count": null,
      "outputs": [
        {
          "output_type": "stream",
          "name": "stdout",
          "text": [
            "Nome\n",
            "Idade\n",
            "Nacionalidade\n",
            "Profissão\n",
            "Residencia atual\n"
          ]
        }
      ]
    },
    {
      "cell_type": "code",
      "source": [
        "for x in Meu_dicionário:\n",
        "  print(Meu_dicionário[x])"
      ],
      "metadata": {
        "colab": {
          "base_uri": "https://localhost:8080/"
        },
        "id": "niPYajjRnNVw",
        "outputId": "467297f6-28f0-4d99-ce54-8dc3dcade32b"
      },
      "execution_count": null,
      "outputs": [
        {
          "output_type": "stream",
          "name": "stdout",
          "text": [
            "Erickson Mendonça\n",
            "32\n",
            "Guineense\n",
            "Web Designer\n",
            "Brasil\n"
          ]
        }
      ]
    },
    {
      "cell_type": "code",
      "source": [
        "for x in Meu_dicionário:\n",
        "  print(x,\"=\",Meu_dicionário.get(x))"
      ],
      "metadata": {
        "colab": {
          "base_uri": "https://localhost:8080/"
        },
        "id": "ovAs5cV8qyrW",
        "outputId": "86e258e3-8284-438a-b450-b9da1f374972"
      },
      "execution_count": null,
      "outputs": [
        {
          "output_type": "stream",
          "name": "stdout",
          "text": [
            "Nome = Erickson Mendonça\n",
            "Idade = 32\n",
            "Nacionalidade = Guineense\n",
            "Profissão = Web Designer\n",
            "Residencia atual = Brasil\n"
          ]
        }
      ]
    },
    {
      "cell_type": "code",
      "source": [
        "if \"Nome\" in Meu_dicionário:\n",
        "  print(\"Sim, 'Nome' é uma das chaves existente nesse dicionário\")\n"
      ],
      "metadata": {
        "colab": {
          "base_uri": "https://localhost:8080/"
        },
        "id": "LMMfnarFuwwG",
        "outputId": "d54350cf-8622-4574-b130-fda575dd11bd"
      },
      "execution_count": null,
      "outputs": [
        {
          "output_type": "stream",
          "name": "stdout",
          "text": [
            "Sim, 'Nome' é uma das chaves existente nesse dicionário\n"
          ]
        }
      ]
    },
    {
      "cell_type": "code",
      "source": [
        "Ano = int(input(\"Que ano você nasceu?\"))\n",
        "Idade = 2024 - Ano\n",
        "if Idade>=18:\n",
        "    print(\"Você é adulto!\")\n",
        "else:\n",
        "    print(\"Você ainda não é adulto!\")"
      ],
      "metadata": {
        "colab": {
          "base_uri": "https://localhost:8080/"
        },
        "id": "z7SJv4kO6zwm",
        "outputId": "4c3de532-e484-4434-8f14-37899cfebc30"
      },
      "execution_count": null,
      "outputs": [
        {
          "output_type": "stream",
          "name": "stdout",
          "text": [
            "Que ano você nasceu?1991\n",
            "Você é adulto!\n"
          ]
        }
      ]
    },
    {
      "cell_type": "code",
      "source": [
        "Meu_dicionário = {\"Nome\":\"Erickson Mendonça\",\"Idade\":32,\n",
        "  \"Nacionalidade\":\"Guineense\",\n",
        "  \"Profissão\":\"Web Designer\",\n",
        "  \"Residencia atual\":\"Brasil\" }\n",
        "print(Meu_dicionário)\n",
        "Meu_dicionário.pop(\"Nome\")\n",
        "print(Meu_dicionário)"
      ],
      "metadata": {
        "colab": {
          "base_uri": "https://localhost:8080/"
        },
        "id": "fy9yobaAUuiM",
        "outputId": "0fefe765-f94f-4c4a-9d4f-d5325c9a223d"
      },
      "execution_count": null,
      "outputs": [
        {
          "output_type": "stream",
          "name": "stdout",
          "text": [
            "{'Nome': 'Erickson Mendonça', 'Idade': 32, 'Nacionalidade': 'Guineense', 'Profissão': 'Web Designer', 'Residencia atual': 'Brasil'}\n",
            "{'Idade': 32, 'Nacionalidade': 'Guineense', 'Profissão': 'Web Designer', 'Residencia atual': 'Brasil'}\n"
          ]
        }
      ]
    }
  ]
}