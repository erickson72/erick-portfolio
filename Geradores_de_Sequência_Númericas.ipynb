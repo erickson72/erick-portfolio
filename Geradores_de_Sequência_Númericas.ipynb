{
  "nbformat": 4,
  "nbformat_minor": 0,
  "metadata": {
    "colab": {
      "provenance": [],
      "authorship_tag": "ABX9TyMEdvzvyKGqf1X+2GzoUoZm",
      "include_colab_link": true
    },
    "kernelspec": {
      "name": "python3",
      "display_name": "Python 3"
    },
    "language_info": {
      "name": "python"
    }
  },
  "cells": [
    {
      "cell_type": "markdown",
      "metadata": {
        "id": "view-in-github",
        "colab_type": "text"
      },
      "source": [
        "<a href=\"https://colab.research.google.com/github/erickson72/erick-portfolio/blob/main/Geradores_de_Sequ%C3%AAncia_N%C3%BAmericas.ipynb\" target=\"_parent\"><img src=\"https://colab.research.google.com/assets/colab-badge.svg\" alt=\"Open In Colab\"/></a>"
      ]
    },
    {
      "cell_type": "code",
      "execution_count": null,
      "metadata": {
        "colab": {
          "base_uri": "https://localhost:8080/"
        },
        "id": "hrRJNwMi4dmC",
        "outputId": "068dbd26-f505-465e-c172-f3abdf71bb64"
      },
      "outputs": [
        {
          "output_type": "execute_result",
          "data": {
            "text/plain": [
              "[0, 1, 2, 3, 4]"
            ]
          },
          "metadata": {},
          "execution_count": 1
        }
      ],
      "source": [
        "list(range(5))"
      ]
    },
    {
      "cell_type": "code",
      "source": [
        "list(range(1,10))"
      ],
      "metadata": {
        "colab": {
          "base_uri": "https://localhost:8080/"
        },
        "id": "m9-4peyA451c",
        "outputId": "6333ec59-c808-4670-b029-2be130154aa0"
      },
      "execution_count": null,
      "outputs": [
        {
          "output_type": "execute_result",
          "data": {
            "text/plain": [
              "[1, 2, 3, 4, 5, 6, 7, 8, 9]"
            ]
          },
          "metadata": {},
          "execution_count": 2
        }
      ]
    },
    {
      "cell_type": "code",
      "source": [
        "list(range(0,30,5))"
      ],
      "metadata": {
        "colab": {
          "base_uri": "https://localhost:8080/"
        },
        "id": "Jbj3nNhL5BCN",
        "outputId": "614ebedb-0882-478e-cfbf-49629ebe1ff4"
      },
      "execution_count": null,
      "outputs": [
        {
          "output_type": "execute_result",
          "data": {
            "text/plain": [
              "[0, 5, 10, 15, 20, 25]"
            ]
          },
          "metadata": {},
          "execution_count": 3
        }
      ]
    },
    {
      "cell_type": "code",
      "source": [
        "list(range(0, 13,3))"
      ],
      "metadata": {
        "colab": {
          "base_uri": "https://localhost:8080/"
        },
        "id": "fe8R-mlC5JXx",
        "outputId": "53b1712c-ef49-4fa5-8e2a-69530949fc7c"
      },
      "execution_count": null,
      "outputs": [
        {
          "output_type": "execute_result",
          "data": {
            "text/plain": [
              "[0, 3, 6, 9, 12]"
            ]
          },
          "metadata": {},
          "execution_count": 4
        }
      ]
    },
    {
      "cell_type": "code",
      "source": [
        "list(range(0,-10,-1))"
      ],
      "metadata": {
        "colab": {
          "base_uri": "https://localhost:8080/"
        },
        "id": "7zrzEE7c-qHv",
        "outputId": "27ffdc1b-e798-48d5-b7f4-b85117f10fc7"
      },
      "execution_count": null,
      "outputs": [
        {
          "output_type": "execute_result",
          "data": {
            "text/plain": [
              "[0, -1, -2, -3, -4, -5, -6, -7, -8, -9]"
            ]
          },
          "metadata": {},
          "execution_count": 5
        }
      ]
    },
    {
      "cell_type": "code",
      "source": [
        "list(range(0))"
      ],
      "metadata": {
        "colab": {
          "base_uri": "https://localhost:8080/"
        },
        "id": "b2G3NAzP_BRC",
        "outputId": "f1451c06-f812-469c-d66c-d3d6a8a6827f"
      },
      "execution_count": null,
      "outputs": [
        {
          "output_type": "execute_result",
          "data": {
            "text/plain": [
              "[]"
            ]
          },
          "metadata": {},
          "execution_count": 6
        }
      ]
    },
    {
      "cell_type": "code",
      "source": [
        "list(range(1,0))"
      ],
      "metadata": {
        "colab": {
          "base_uri": "https://localhost:8080/"
        },
        "id": "E3KVyczI_FKz",
        "outputId": "eaf2284e-47f2-4cff-b36d-c749c478ca6d"
      },
      "execution_count": null,
      "outputs": [
        {
          "output_type": "execute_result",
          "data": {
            "text/plain": [
              "[]"
            ]
          },
          "metadata": {},
          "execution_count": 7
        }
      ]
    },
    {
      "cell_type": "code",
      "source": [
        "list(range(1,10))"
      ],
      "metadata": {
        "colab": {
          "base_uri": "https://localhost:8080/"
        },
        "id": "JhrXZ3V3_Nsm",
        "outputId": "ad3a51de-ee4b-4a1d-b92d-fbdf95ed7298"
      },
      "execution_count": null,
      "outputs": [
        {
          "output_type": "execute_result",
          "data": {
            "text/plain": [
              "[1, 2, 3, 4, 5, 6, 7, 8, 9]"
            ]
          },
          "metadata": {},
          "execution_count": 8
        }
      ]
    },
    {
      "cell_type": "code",
      "source": [
        "for carina in \"Amor\":\n",
        "  print(carina)"
      ],
      "metadata": {
        "colab": {
          "base_uri": "https://localhost:8080/"
        },
        "id": "9KlQx9BdOavt",
        "outputId": "984ac619-264c-4add-a899-e37b988c4802"
      },
      "execution_count": null,
      "outputs": [
        {
          "output_type": "stream",
          "name": "stdout",
          "text": [
            "A\n",
            "m\n",
            "o\n",
            "r\n"
          ]
        }
      ]
    },
    {
      "cell_type": "code",
      "source": [
        "for i in range(21):\n",
        "  print(i, end=\",\")"
      ],
      "metadata": {
        "colab": {
          "base_uri": "https://localhost:8080/"
        },
        "id": "jQJhzG70JLCc",
        "outputId": "a0998be3-4b36-46a2-cfdc-9bdcd571e168"
      },
      "execution_count": null,
      "outputs": [
        {
          "output_type": "stream",
          "name": "stdout",
          "text": [
            "0,1,2,3,4,5,6,7,8,9,10,11,12,13,14,15,16,17,18,19,20,"
          ]
        }
      ]
    },
    {
      "cell_type": "code",
      "source": [
        "Iteração looping usando for"
      ],
      "metadata": {
        "id": "AyecxhX1__t8"
      },
      "execution_count": null,
      "outputs": []
    },
    {
      "cell_type": "code",
      "source": [
        "regioes = [\"Norte\", \"Nordeste\", \"Sudeste\", \"Sul\", \"Centro-Oeste\"]\n",
        "for x in regioes:\n",
        "  regiao_desejada = \"Nordeste\"\n",
        "  print(\"Inicio das instruções\")\n",
        "  print(\"  >\", x.upper())\n",
        "  print(\"  >\",x.title())\n",
        "  print(\"  >\",x.lower())\n",
        "  print(\"  >\",x*3)\n",
        "  print(\"fim das instruções\")\n",
        "  if x == regiao_desejada :\n",
        "    print(f'Achei o que procurava! A regiao{x}')\n",
        "    break"
      ],
      "metadata": {
        "colab": {
          "base_uri": "https://localhost:8080/"
        },
        "id": "_zIufJMhAD9c",
        "outputId": "8aee34d7-0325-4cce-9a93-2bc3011a44a3"
      },
      "execution_count": null,
      "outputs": [
        {
          "output_type": "stream",
          "name": "stdout",
          "text": [
            "Inicio das instruções\n",
            "  > NORTE\n",
            "  > Norte\n",
            "  > norte\n",
            "  > NorteNorteNorte\n",
            "fim das instruções\n",
            "Inicio das instruções\n",
            "  > NORDESTE\n",
            "  > Nordeste\n",
            "  > nordeste\n",
            "  > NordesteNordesteNordeste\n",
            "fim das instruções\n",
            "Achei o que procurava! A regiaoNordeste\n"
          ]
        }
      ]
    },
    {
      "cell_type": "code",
      "source": [
        "A instrução continue\n",
        "Com a instrução continue , podemos parar a iteração atual do loop e continuar com a próxima interação:"
      ],
      "metadata": {
        "id": "Je4HG8YMNWqU"
      },
      "execution_count": null,
      "outputs": []
    },
    {
      "cell_type": "code",
      "source": [
        "regioes = [\"Norte\", \"Nordeste\", \"Sudeste\", \"Sul\", \"Centro-Oeste\"]\n",
        "regiao_desejada = \"Sul\"\n",
        "for x in regioes:\n",
        "  if not x == regiao_desejada :\n",
        "    print(f'{x} não é o que estou procurando!')\n",
        "    continue\n",
        "  print('Inicio das instruções')\n",
        "  print('  >', x.upper())\n",
        "  print('  >',x.title())\n",
        "  print('  >',x.lower())\n",
        "  print('  >',x*3)\n",
        "  print('Fim das instruções')\n",
        "  if x == regiao_desejada :\n",
        "    print(f'Achei o que procurava! A região {x}')\n",
        "    break"
      ],
      "metadata": {
        "colab": {
          "base_uri": "https://localhost:8080/"
        },
        "id": "7S_dsA96Nlok",
        "outputId": "bcdf1728-9ec0-45e1-c551-757a3e8ce597"
      },
      "execution_count": null,
      "outputs": [
        {
          "output_type": "stream",
          "name": "stdout",
          "text": [
            "Norte não é o que estou procurando!\n",
            "Nordeste não é o que estou procurando!\n",
            "Sudeste não é o que estou procurando!\n",
            "Inicio das instruções\n",
            "  > SUL\n",
            "  > Sul\n",
            "  > sul\n",
            "  > SulSulSul\n",
            "Fim das instruções\n",
            "Achei o que procurava! A região Sul\n"
          ]
        }
      ]
    },
    {
      "cell_type": "code",
      "source": [
        "#imprimir a lista de numeros pares menores ou igual a 20"
      ],
      "metadata": {
        "id": "hNVTCH_sPUd8"
      },
      "execution_count": null,
      "outputs": []
    },
    {
      "cell_type": "code",
      "source": [
        "for i in range(21):\n",
        "  if i % 2 == 0:\n",
        "    print(i, end=',')"
      ],
      "metadata": {
        "colab": {
          "base_uri": "https://localhost:8080/"
        },
        "id": "IjLkXvPwPX9e",
        "outputId": "0e2d06db-5f88-4627-e6d2-dcceca0262af"
      },
      "execution_count": null,
      "outputs": [
        {
          "output_type": "stream",
          "name": "stdout",
          "text": [
            "0,2,4,6,8,10,12,14,16,18,20,"
          ]
        }
      ]
    },
    {
      "cell_type": "code",
      "source": [
        "## Calcula a média de idades com o for"
      ],
      "metadata": {
        "id": "PJFFu0ACPu3n"
      },
      "execution_count": null,
      "outputs": []
    },
    {
      "cell_type": "code",
      "source": [
        "idades = [28,29,'Não revelo minha idade',32,33, 'Não sei quando nasci', 27,28,None,23,24,None,25,32,43,None,32,54, 'pergunta para minha mãe',30,None,33]\n",
        "total = 0\n",
        "n =  0\n",
        "for valor in idades:\n",
        "    if type(valor) != int and type(valor) != float:\n",
        "      continue\n",
        "\n",
        "    total += valor\n",
        "    n += 1\n",
        "\n",
        "media = total / n\n",
        "print(f'A média da idade dos alunos é {media:.2f}')"
      ],
      "metadata": {
        "colab": {
          "base_uri": "https://localhost:8080/"
        },
        "id": "TegxQT7gPwOc",
        "outputId": "7e37fb09-0af7-4359-be4d-c66ea9eb0382"
      },
      "execution_count": null,
      "outputs": [
        {
          "output_type": "stream",
          "name": "stdout",
          "text": [
            "A média da idade dos alunos é 31.53\n"
          ]
        }
      ]
    },
    {
      "cell_type": "code",
      "source": [
        "\n",
        "#Loops aninhados com o for\n",
        "\n",
        "Podem ser criados quantos loops aninhados quanto forem necessário, bastando observar a correta identação.\n"
      ],
      "metadata": {
        "id": "hS0pmR3dQmde"
      },
      "execution_count": null,
      "outputs": []
    },
    {
      "cell_type": "code",
      "source": [
        "#Tabuada de Multiplicação com o For\n",
        "print('_'*72)\n",
        "print('|{0:^70s}|'.format('Tabuada de Multiplicação com o For'))\n",
        "print('_'*72)\n",
        "for x in range(1,11):\n",
        "  for y in range(1,11):\n",
        "    if y==10:\n",
        "      print(f'|{x*y:>6d} |')\n",
        "    else:\n",
        "      print(f'|{x*y:>6d}', end='')\n",
        "  print('_'*72)"
      ],
      "metadata": {
        "colab": {
          "base_uri": "https://localhost:8080/"
        },
        "id": "f4j1GRpvQrw4",
        "outputId": "c621fb22-a25c-4d21-f905-7b58cb027293"
      },
      "execution_count": null,
      "outputs": [
        {
          "output_type": "stream",
          "name": "stdout",
          "text": [
            "________________________________________________________________________\n",
            "|                  Tabuada de Multiplicação com o For                  |\n",
            "________________________________________________________________________\n",
            "|     1|     2|     3|     4|     5|     6|     7|     8|     9|    10 |\n",
            "________________________________________________________________________\n",
            "|     2|     4|     6|     8|    10|    12|    14|    16|    18|    20 |\n",
            "________________________________________________________________________\n",
            "|     3|     6|     9|    12|    15|    18|    21|    24|    27|    30 |\n",
            "________________________________________________________________________\n",
            "|     4|     8|    12|    16|    20|    24|    28|    32|    36|    40 |\n",
            "________________________________________________________________________\n",
            "|     5|    10|    15|    20|    25|    30|    35|    40|    45|    50 |\n",
            "________________________________________________________________________\n",
            "|     6|    12|    18|    24|    30|    36|    42|    48|    54|    60 |\n",
            "________________________________________________________________________\n",
            "|     7|    14|    21|    28|    35|    42|    49|    56|    63|    70 |\n",
            "________________________________________________________________________\n",
            "|     8|    16|    24|    32|    40|    48|    56|    64|    72|    80 |\n",
            "________________________________________________________________________\n",
            "|     9|    18|    27|    36|    45|    54|    63|    72|    81|    90 |\n",
            "________________________________________________________________________\n",
            "|    10|    20|    30|    40|    50|    60|    70|    80|    90|   100 |\n",
            "________________________________________________________________________\n"
          ]
        }
      ]
    },
    {
      "cell_type": "code",
      "source": [
        "#Imprimindo o Calendário do Mês\n",
        "Mes = 'Outubro'\n",
        "dias_semana = ['domingo', 'segunda-feira', 'terça-feira', 'quarta-feira', 'quinta-feira', 'sexta-feira', 'sábado']\n",
        "mes_inicia_dia_semana = 'quinta-feira'\n",
        "quantidade_dias_do_mes = 31\n",
        "dia_mes = 0\n",
        "print('_'*112)\n",
        "print('|{0:^111s}|'.format(Mes))\n",
        "print('_'*112)\n",
        "for dia_semana in dias_semana:\n",
        "  if dia_semana =='sábado':\n",
        "    print(f'|{dia_semana:^15s}|')\n",
        "  else:\n",
        "    print(f'|{dia_semana:^15s}', end='')\n",
        "\n",
        "for posicao in range(1,5 * 7 + 1):\n",
        "  if dia_mes == 0 and dias_semana[posicao-1]!=mes_inicia_dia_semana:\n",
        "    print(f'|{\" \":>15s}', end='')\n",
        "    continue\n",
        "\n",
        "  dia_mes += 1\n",
        "  if posicao % 7 == 0:\n",
        "    print(f'|{dia_mes:>15d}|' if dia_mes <= quantidade_dias_do_mes else  f'|{\" \":>15s}|')\n",
        "  else:\n",
        "    print(f'|{dia_mes:>15d}' if dia_mes <= quantidade_dias_do_mes else  f'|{\" \":>15s}', end='')\n",
        "print('_'*112)"
      ],
      "metadata": {
        "colab": {
          "base_uri": "https://localhost:8080/"
        },
        "id": "ktnsBOu4WKVT",
        "outputId": "0b17c813-f8b0-44fe-d1d5-a0ed63811fdc"
      },
      "execution_count": null,
      "outputs": [
        {
          "output_type": "stream",
          "name": "stdout",
          "text": [
            "________________________________________________________________________________________________________________\n",
            "|                                                    Outubro                                                    |\n",
            "________________________________________________________________________________________________________________\n",
            "|    domingo    | segunda-feira |  terça-feira  | quarta-feira  | quinta-feira  |  sexta-feira  |    sábado     |\n",
            "|               |               |               |               |              1|              2|              3|\n",
            "|              4|              5|              6|              7|              8|              9|             10|\n",
            "|             11|             12|             13|             14|             15|             16|             17|\n",
            "|             18|             19|             20|             21|             22|             23|             24|\n",
            "|             25|             26|             27|             28|             29|             30|             31|\n",
            "________________________________________________________________________________________________________________\n"
          ]
        }
      ]
    }
  ]
}