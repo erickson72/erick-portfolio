{
  "nbformat": 4,
  "nbformat_minor": 0,
  "metadata": {
    "colab": {
      "provenance": [],
      "authorship_tag": "ABX9TyM8Td7niBK5JWlII8/hsf4V",
      "include_colab_link": true
    },
    "kernelspec": {
      "name": "python3",
      "display_name": "Python 3"
    },
    "language_info": {
      "name": "python"
    }
  },
  "cells": [
    {
      "cell_type": "markdown",
      "metadata": {
        "id": "view-in-github",
        "colab_type": "text"
      },
      "source": [
        "<a href=\"https://colab.research.google.com/github/erickson72/erick-portfolio/blob/main/_MEU_PRIMEIRO_NOTEBOOK_JUPYTER.ipynb\" target=\"_parent\"><img src=\"https://colab.research.google.com/assets/colab-badge.svg\" alt=\"Open In Colab\"/></a>"
      ]
    },
    {
      "cell_type": "code",
      "execution_count": null,
      "metadata": {
        "colab": {
          "base_uri": "https://localhost:8080/"
        },
        "id": "0fFe5DwalVPA",
        "outputId": "1ee8e9da-b8bc-49bc-d8ee-f17b7eb2c58c"
      },
      "outputs": [
        {
          "output_type": "stream",
          "name": "stdout",
          "text": [
            "Olá pessoal! Aqui é o Erickson Mendonça.Esse é o meu primeiro notebook jupyter.\n",
            "5 + 5 = 10\n",
            "3*3 = 9\n",
            "100-50 = 50\n"
          ]
        }
      ],
      "source": [
        "print('Olá pessoal! Aqui é o Erickson Mendonça.Esse é o meu primeiro notebook jupyter.')\n",
        "print('5 + 5 =', 5 + 5)\n",
        "print('3*3 =',  3*3)\n",
        "print('100-50 =', 100-50)"
      ]
    },
    {
      "cell_type": "code",
      "source": [
        "print('Olá pessoal! Aqui é o Erickson Mendonça.Esse é o meu primeiro notebook jupyter.')"
      ],
      "metadata": {
        "colab": {
          "base_uri": "https://localhost:8080/"
        },
        "id": "cyanq77ylkaX",
        "outputId": "875de828-08f4-435f-9588-ba4fd3397b1d"
      },
      "execution_count": null,
      "outputs": [
        {
          "output_type": "stream",
          "name": "stdout",
          "text": [
            "Olá pessoal! Aqui é o Erickson Mendonça.Esse é o meu primeiro notebook jupyter.\n"
          ]
        }
      ]
    },
    {
      "cell_type": "code",
      "source": [
        "print('5 + 5 =', 5 + 5)"
      ],
      "metadata": {
        "colab": {
          "base_uri": "https://localhost:8080/"
        },
        "id": "a1_H24AWl7vX",
        "outputId": "8b8945ae-3e34-4f93-d8af-ca20c28fa746"
      },
      "execution_count": null,
      "outputs": [
        {
          "output_type": "stream",
          "name": "stdout",
          "text": [
            "5 + 5 = 10\n"
          ]
        }
      ]
    },
    {
      "cell_type": "code",
      "source": [
        "print('3*3 =',  3*3)"
      ],
      "metadata": {
        "colab": {
          "base_uri": "https://localhost:8080/"
        },
        "id": "JZTfcv50l-Tp",
        "outputId": "0e46420c-9f74-46cd-949f-97ec04e5ef5b"
      },
      "execution_count": null,
      "outputs": [
        {
          "output_type": "stream",
          "name": "stdout",
          "text": [
            "3*3 = 9\n"
          ]
        }
      ]
    },
    {
      "cell_type": "code",
      "source": [
        "print('100-50 =', 100-50)"
      ],
      "metadata": {
        "colab": {
          "base_uri": "https://localhost:8080/"
        },
        "id": "6JjAnnmgl-kg",
        "outputId": "0d86aeae-000d-42c3-d8f6-4263c9f707f4"
      },
      "execution_count": null,
      "outputs": [
        {
          "output_type": "stream",
          "name": "stdout",
          "text": [
            "100-50 = 50\n"
          ]
        }
      ]
    },
    {
      "cell_type": "code",
      "source": [
        "print(\"3+5=\",3+5)"
      ],
      "metadata": {
        "colab": {
          "base_uri": "https://localhost:8080/"
        },
        "id": "ZnraVcs8l-vg",
        "outputId": "185507f8-cb65-4ef0-f3c7-c021a17a0583"
      },
      "execution_count": null,
      "outputs": [
        {
          "output_type": "stream",
          "name": "stdout",
          "text": [
            "3+5= 8\n"
          ]
        }
      ]
    },
    {
      "cell_type": "code",
      "source": [
        "Nome = input(\"Qual é o seu nome?\")"
      ],
      "metadata": {
        "colab": {
          "base_uri": "https://localhost:8080/"
        },
        "id": "1VGLD_yWqKKk",
        "outputId": "834f1eed-e00d-44f6-a7a0-68a5abb5d362"
      },
      "execution_count": null,
      "outputs": [
        {
          "name": "stdout",
          "output_type": "stream",
          "text": [
            "Qual é o seu nome?Erickson\n"
          ]
        }
      ]
    },
    {
      "cell_type": "code",
      "source": [
        "print(Nome)"
      ],
      "metadata": {
        "colab": {
          "base_uri": "https://localhost:8080/"
        },
        "id": "O4csSCLur_6a",
        "outputId": "5fef7bed-c3e3-4dc4-86c6-67924832d1ef"
      },
      "execution_count": null,
      "outputs": [
        {
          "output_type": "stream",
          "name": "stdout",
          "text": [
            "Erickson\n"
          ]
        }
      ]
    },
    {
      "cell_type": "code",
      "source": [
        "type(Nome)"
      ],
      "metadata": {
        "colab": {
          "base_uri": "https://localhost:8080/"
        },
        "id": "8uDWNRK3sSoW",
        "outputId": "bf077baf-3ad6-461b-9564-060ba06bc4b2"
      },
      "execution_count": null,
      "outputs": [
        {
          "output_type": "execute_result",
          "data": {
            "text/plain": [
              "str"
            ]
          },
          "metadata": {},
          "execution_count": 21
        }
      ]
    },
    {
      "cell_type": "code",
      "source": [
        "RegiãoN, RegiãoS, RegiãoL = \"Norte\",\"Sul\",\"Leste\"\n",
        "print(RegiãoN)\n",
        "print(RegiãoS)\n",
        "print(RegiãoL)"
      ],
      "metadata": {
        "colab": {
          "base_uri": "https://localhost:8080/"
        },
        "id": "SijlV4f5tkaj",
        "outputId": "2dea8561-ad59-4026-b2e9-41e6406fe775"
      },
      "execution_count": null,
      "outputs": [
        {
          "output_type": "stream",
          "name": "stdout",
          "text": [
            "Norte\n",
            "Sul\n",
            "Leste\n"
          ]
        }
      ]
    },
    {
      "cell_type": "code",
      "source": [
        "RegiãoN, RegiãoS, RegiãoL = \"Norte\",\"Sul\",\"Leste\"\n",
        "print(RegiãoL)"
      ],
      "metadata": {
        "colab": {
          "base_uri": "https://localhost:8080/"
        },
        "id": "WEM5jrGEvSxW",
        "outputId": "68210e73-be03-498d-dfd8-e243a466f094"
      },
      "execution_count": null,
      "outputs": [
        {
          "output_type": "stream",
          "name": "stdout",
          "text": [
            "Leste\n"
          ]
        }
      ]
    }
  ]
}