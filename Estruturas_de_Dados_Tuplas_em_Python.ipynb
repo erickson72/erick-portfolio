{
  "nbformat": 4,
  "nbformat_minor": 0,
  "metadata": {
    "colab": {
      "provenance": [],
      "authorship_tag": "ABX9TyMk3YrnriMsqAtU8jfs/4IJ",
      "include_colab_link": true
    },
    "kernelspec": {
      "name": "python3",
      "display_name": "Python 3"
    },
    "language_info": {
      "name": "python"
    }
  },
  "cells": [
    {
      "cell_type": "markdown",
      "metadata": {
        "id": "view-in-github",
        "colab_type": "text"
      },
      "source": [
        "<a href=\"https://colab.research.google.com/github/erickson72/erick-portfolio/blob/main/Estruturas_de_Dados_Tuplas_em_Python.ipynb\" target=\"_parent\"><img src=\"https://colab.research.google.com/assets/colab-badge.svg\" alt=\"Open In Colab\"/></a>"
      ]
    },
    {
      "cell_type": "code",
      "execution_count": null,
      "metadata": {
        "id": "MLnFsznqWNwp"
      },
      "outputs": [],
      "source": [
        "# Estruturas de Dados - Tuplas em Python"
      ]
    },
    {
      "cell_type": "code",
      "source": [
        "tuple\n",
        "#Coleção ordenada e imutável\n",
        "#São declaradas com colchetes."
      ],
      "metadata": {
        "id": "t5qRvPSUWdLu"
      },
      "execution_count": null,
      "outputs": []
    },
    {
      "cell_type": "code",
      "source": [
        "tuplas_regioes = (\"Norte\",\"Sul\",\"Sudeste\",\"Nordeste\",\"Centro-Oeste\")\n",
        "print(tuplas_regioes)"
      ],
      "metadata": {
        "colab": {
          "base_uri": "https://localhost:8080/"
        },
        "id": "_t2i23yIWoi0",
        "outputId": "e812f7d4-8e5a-4030-b262-078ab77d4288"
      },
      "execution_count": null,
      "outputs": [
        {
          "output_type": "stream",
          "name": "stdout",
          "text": [
            "('Norte', 'Sul', 'Sudeste', 'Nordeste', 'Centro-Oeste')\n"
          ]
        }
      ]
    },
    {
      "cell_type": "code",
      "source": [
        "type(tuplas_regioes)"
      ],
      "metadata": {
        "colab": {
          "base_uri": "https://localhost:8080/"
        },
        "id": "zBS3A2TzbbAz",
        "outputId": "767fd614-6696-40d8-e5f3-de9f599ff755"
      },
      "execution_count": null,
      "outputs": [
        {
          "output_type": "execute_result",
          "data": {
            "text/plain": [
              "tuple"
            ]
          },
          "metadata": {},
          "execution_count": 3
        }
      ]
    },
    {
      "cell_type": "code",
      "source": [
        "tuplas_regioes = (\"Norte\",1, \"Sul\",2, \"Centro-Oeste\")\n",
        "print(tuplas_regioes)"
      ],
      "metadata": {
        "colab": {
          "base_uri": "https://localhost:8080/"
        },
        "id": "-lSRxN1rbla5",
        "outputId": "570e071f-c914-4b37-9073-496d475e50fb"
      },
      "execution_count": null,
      "outputs": [
        {
          "output_type": "stream",
          "name": "stdout",
          "text": [
            "('Norte', 1, 'Sul', 2, 'Centro-Oeste')\n"
          ]
        }
      ]
    },
    {
      "cell_type": "code",
      "source": [
        "tuplas_regioes = (\"Norte\",\"Sul\",\"Sudeste\",\"Nordeste\",\"Centro-Oeste\")\n",
        "print(tuplas_regioes[-1])"
      ],
      "metadata": {
        "colab": {
          "base_uri": "https://localhost:8080/"
        },
        "id": "spz9hCfvcNZ3",
        "outputId": "ad0ed31e-1bf8-4408-8910-b69ca78cae56"
      },
      "execution_count": null,
      "outputs": [
        {
          "output_type": "stream",
          "name": "stdout",
          "text": [
            "Centro-Oeste\n"
          ]
        }
      ]
    },
    {
      "cell_type": "code",
      "source": [
        "tuplas_regioes = (\"Norte\",\"Sul\",\"Sudeste\",\"Nordeste\",\"Centro-Oeste\",\"Noroeste\", \"Leste\")\n",
        "print(tuplas_regioes[3:7])"
      ],
      "metadata": {
        "colab": {
          "base_uri": "https://localhost:8080/"
        },
        "id": "-pubeiqCdqZP",
        "outputId": "f799de5f-f1d6-417b-bcea-88fcd796dd3e"
      },
      "execution_count": null,
      "outputs": [
        {
          "output_type": "stream",
          "name": "stdout",
          "text": [
            "('Nordeste', 'Centro-Oeste', 'Noroeste', 'Leste')\n"
          ]
        }
      ]
    },
    {
      "cell_type": "code",
      "source": [
        "tupla_regioes = (\"Norte\", \"Sul\", \"Sudeste\",\"Nordeste\", \"Centro Oeste\", \"Noroeste\", \"Leste\" )\n",
        "print(tupla_regioes[-4:-1])"
      ],
      "metadata": {
        "colab": {
          "base_uri": "https://localhost:8080/"
        },
        "id": "gm6Y7nOne8Si",
        "outputId": "c97d3522-97ba-4cc5-da88-f0305580030c"
      },
      "execution_count": null,
      "outputs": [
        {
          "output_type": "stream",
          "name": "stdout",
          "text": [
            "('Nordeste', 'Centro Oeste', 'Noroeste')\n"
          ]
        }
      ]
    },
    {
      "cell_type": "code",
      "source": [
        "tupla_regioes = (\"Norte\", \"Sul\", \"Sudeste\",\"Nordeste\", \"Centro Oeste\", \"Noroeste\", \"Leste\" )\n",
        "print(tupla_regioes[-4:])"
      ],
      "metadata": {
        "colab": {
          "base_uri": "https://localhost:8080/"
        },
        "id": "sHpOyikiXHSq",
        "outputId": "d42d9806-bc97-437b-a4bb-4bfa867ec2ea"
      },
      "execution_count": null,
      "outputs": [
        {
          "output_type": "stream",
          "name": "stdout",
          "text": [
            "('Nordeste', 'Centro Oeste', 'Noroeste', 'Leste')\n"
          ]
        }
      ]
    },
    {
      "cell_type": "code",
      "source": [
        "print(tupla_regioes[:-4])"
      ],
      "metadata": {
        "colab": {
          "base_uri": "https://localhost:8080/"
        },
        "id": "XnQhl_pJXqKU",
        "outputId": "19d3e555-790a-44e8-8348-da165e2af240"
      },
      "execution_count": null,
      "outputs": [
        {
          "output_type": "stream",
          "name": "stdout",
          "text": [
            "('Norte',)\n"
          ]
        }
      ]
    },
    {
      "cell_type": "code",
      "source": [
        "#Loop através de uma tupla usando um forloop"
      ],
      "metadata": {
        "id": "cdHa3ilUX4Jo"
      },
      "execution_count": null,
      "outputs": []
    },
    {
      "cell_type": "code",
      "source": [
        "tupla_regioes = (\"Norte\", \"Sul\", \"Sudeste\",\"Nordeste\", \"Centro Oeste\")\n",
        "for x in tupla_regioes:\n",
        "  print(x)"
      ],
      "metadata": {
        "colab": {
          "base_uri": "https://localhost:8080/"
        },
        "id": "wfGzIeNpX6T9",
        "outputId": "ad0c204c-8158-4253-f4a3-4df20afe2947"
      },
      "execution_count": null,
      "outputs": [
        {
          "output_type": "stream",
          "name": "stdout",
          "text": [
            "Norte\n",
            "Sul\n",
            "Sudeste\n",
            "Nordeste\n",
            "Centro Oeste\n"
          ]
        }
      ]
    },
    {
      "cell_type": "code",
      "source": [
        "tupla_regioes = (\"Norte\", \"Sul\", \"Sudeste\",\"Nordeste\", \"Centro Oeste\")\n",
        "if \"Sul\" in tupla_regioes:\n",
        "  print(\"Sim, 'Sul' está na tupla_regioes\")"
      ],
      "metadata": {
        "colab": {
          "base_uri": "https://localhost:8080/"
        },
        "id": "4FU8406vbjjM",
        "outputId": "ca4b8ee3-1a9c-4db5-8e50-374361d33b76"
      },
      "execution_count": null,
      "outputs": [
        {
          "output_type": "stream",
          "name": "stdout",
          "text": [
            "Sim, 'Sul' está na tupla_regioes\n"
          ]
        }
      ]
    }
  ]
}